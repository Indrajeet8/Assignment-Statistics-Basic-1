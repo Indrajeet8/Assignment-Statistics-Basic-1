{
 "cells": [
  {
   "cell_type": "markdown",
   "id": "1dfff143-ff0a-4f65-b0c7-73b5e9b1a823",
   "metadata": {},
   "source": [
    "Statistics Basic-1"
   ]
  },
  {
   "cell_type": "markdown",
   "id": "83ba7023-ad50-482f-8efd-25c4ef8700c0",
   "metadata": {},
   "source": [
    "Assignment Questions"
   ]
  },
  {
   "cell_type": "code",
   "execution_count": 1,
   "id": "825c1031-6151-47db-88f3-180f046c97bb",
   "metadata": {},
   "outputs": [],
   "source": [
    "#Q1. What is Statistics?"
   ]
  },
  {
   "cell_type": "markdown",
   "id": "fc8dac82-f581-411a-8176-85dccdf61d90",
   "metadata": {},
   "source": [
    "Statistics  is the source of collecting organizing and analyzing data"
   ]
  },
  {
   "cell_type": "code",
   "execution_count": null,
   "id": "50310720-d534-4102-ab01-19cba66991be",
   "metadata": {},
   "outputs": [],
   "source": []
  },
  {
   "cell_type": "code",
   "execution_count": 4,
   "id": "c236d7b6-ba31-41fe-9712-db9cd1cffffc",
   "metadata": {},
   "outputs": [],
   "source": [
    "#Q.2  Define the different types of statistics and give an example of when each type might be used."
   ]
  },
  {
   "cell_type": "raw",
   "id": "e5440c66-9d2d-44dc-8cb6-f29042af4c38",
   "metadata": {},
   "source": [
    "descriptive Statistics and inferential Statistics. \n",
    "In descriptive Statistics, the Data or Collection Data are described in a summarized way, whereas in inferential Statistics,\n",
    "we make use of it in order to explain the descriptive kind.\n",
    "Both of them are used on a large scale."
   ]
  },
  {
   "cell_type": "code",
   "execution_count": null,
   "id": "4443c959-b557-48a5-93e2-1419480a7f8a",
   "metadata": {},
   "outputs": [],
   "source": []
  },
  {
   "cell_type": "code",
   "execution_count": 5,
   "id": "71051bd5-fb78-4a18-b60a-d38444ff917c",
   "metadata": {},
   "outputs": [],
   "source": [
    "#Q3. What are the different types of data and how do they differ from each other? Provide an example of each type of data.\n"
   ]
  },
  {
   "cell_type": "raw",
   "id": "a91ef653-c47c-4380-9ef4-65996bb97afa",
   "metadata": {},
   "source": [
    "Nominal Data\t\n",
    "Examples: Eye color, housing style, gender, hair color, religion, marital status, ethnicity, etc\t\n",
    "\n",
    "Ordinal Data\n",
    "Examples: Economic status, customer satisfaction, education level, letter grades, etc\n"
   ]
  },
  {
   "cell_type": "code",
   "execution_count": null,
   "id": "6e92323a-f3f4-4eba-a6b0-3ad7a7168c70",
   "metadata": {},
   "outputs": [],
   "source": []
  },
  {
   "cell_type": "code",
   "execution_count": null,
   "id": "6ec4383f-f448-478f-b316-40d8d9a4f9f9",
   "metadata": {},
   "outputs": [],
   "source": [
    "#Q4. Categorise the following datasets with respect to quantitative and qualitative data types:\n",
    "(i) Grading in exam: A+, A, B+, B, C+, C, D, E\n",
    "(ii) Colour of mangoes: yellow, green, orange, red\n",
    "(iii) Height data of a class: [178.9, 179, 179.5, 176, 177.2, 178.3, 175.8,...]\n",
    "(iv) Number of mangoes exported by a farm: [500, 600, 478, 672, ...]"
   ]
  },
  {
   "cell_type": "markdown",
   "id": "06d4eeb7-f2cd-49cd-908a-44fe1d9059ad",
   "metadata": {},
   "source": [
    "Ans --"
   ]
  },
  {
   "cell_type": "raw",
   "id": "1b8a23dd-ea8d-4b47-acbb-a84a1d519f2e",
   "metadata": {},
   "source": [
    "(i) Grading in exam: A+, A, B+, B, C+, C, D, E -- Ordinal Data type \n",
    "(ii) Colour of mangoes: yellow, green, orange, red  == Nominal data type \n",
    "(iii) Height data of a class: [178.9, 179, 179.5, 176, 177.2, 178.3, 175.8,...]== Continouus Quantitive data type \n",
    "(iv) Number of mangoes exported by a farm: [500, 600, 478, 672, ...] == Discreate data type "
   ]
  },
  {
   "cell_type": "code",
   "execution_count": null,
   "id": "9e57e377-d4d8-4648-a1fd-b6b12c6420e9",
   "metadata": {},
   "outputs": [],
   "source": []
  },
  {
   "cell_type": "code",
   "execution_count": 6,
   "id": "aabb2cb7-9e72-4a4e-882f-8221133d0948",
   "metadata": {},
   "outputs": [],
   "source": [
    "#Q5. Explain the concept of levels of measurement and give an example of a variable for each level."
   ]
  },
  {
   "cell_type": "raw",
   "id": "f3a1d5cc-94b7-4ebe-9f15-3a8c2a95755b",
   "metadata": {},
   "source": [
    "The level at which you measure a variable determines how you can analyze your data.\n",
    "Depending on the level of measurement, you can perform different descriptive statistics to get an overall summary of your data and inferential statistics to see if your results support or refute your hypothesi"
   ]
  },
  {
   "cell_type": "code",
   "execution_count": null,
   "id": "1fd234a5-0054-44f5-88d8-592d8c904dc2",
   "metadata": {},
   "outputs": [],
   "source": []
  },
  {
   "cell_type": "code",
   "execution_count": 8,
   "id": "8e5eb4a3-eb98-4ce8-aea3-cb40b58f7396",
   "metadata": {},
   "outputs": [],
   "source": [
    "#Q6. Why is it important to understand the level of measurement when analyzing data? Provide an example to illustrate your answer\n"
   ]
  },
  {
   "cell_type": "markdown",
   "id": "448b1b12-2d59-47ce-832e-bf3d1189e303",
   "metadata": {},
   "source": [
    "It is important to understand the level of measurement of variables in research, because the level of measurement determines the type of statistical analysis that can be conducted, and, therefore, the type of conclusions that can be drawn from the research."
   ]
  },
  {
   "cell_type": "code",
   "execution_count": null,
   "id": "e3703b87-bc8d-4966-9f59-14f1635fdf33",
   "metadata": {},
   "outputs": [],
   "source": []
  },
  {
   "cell_type": "code",
   "execution_count": 9,
   "id": "e597c195-6d9d-4b56-9e57-106165cb7ec8",
   "metadata": {},
   "outputs": [],
   "source": [
    "#Q7. How nominal data type is different from ordinal data type."
   ]
  },
  {
   "cell_type": "markdown",
   "id": "400f7295-78ff-4ad1-b078-aa5dd939a6db",
   "metadata": {},
   "source": [
    "Ordinal data is analyzed by mode, median, quartiles, and percentile, whereas nominal data is analyzed by grouping variables into categories and calculating the distribution mode. Nominal data are categorical, whereas Ordinal data are both categorical and quantitative"
   ]
  }
 ],
 "metadata": {
  "kernelspec": {
   "display_name": "Python 3 (ipykernel)",
   "language": "python",
   "name": "python3"
  },
  "language_info": {
   "codemirror_mode": {
    "name": "ipython",
    "version": 3
   },
   "file_extension": ".py",
   "mimetype": "text/x-python",
   "name": "python",
   "nbconvert_exporter": "python",
   "pygments_lexer": "ipython3",
   "version": "3.10.8"
  }
 },
 "nbformat": 4,
 "nbformat_minor": 5
}
